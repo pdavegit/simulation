{
 "cells": [
  {
   "cell_type": "code",
   "execution_count": 1,
   "metadata": {},
   "outputs": [],
   "source": [
    "import numpy as np\n",
    "from matplotlib import pyplot as plt\n",
    "%matplotlib inline"
   ]
  },
  {
   "cell_type": "code",
   "execution_count": 2,
   "metadata": {},
   "outputs": [
    {
     "data": {
      "text/plain": [
       "[<matplotlib.lines.Line2D at 0x2342a938f60>]"
      ]
     },
     "execution_count": 2,
     "metadata": {},
     "output_type": "execute_result"
    },
    {
     "data": {
      "image/png": "[encoded data removed]",
      "text/plain": [
       "<Figure size 432x288 with 1 Axes>"
      ]
     },
     "metadata": {
      "needs_background": "light"
     },
     "output_type": "display_data"
    }
   ],
   "source": [
    "def phi(x):\n",
    "    if (x < 0):\n",
    "        return 1.0 - phi(-x)\n",
    "    y = 1.0 / (1.0 + 0.33267*x)\n",
    "    a1 = 0.4361836\n",
    "    a2 = -0.1201676\n",
    "    a3 = 0.9372980\n",
    "    r = 1.0 - (1.0/(np.sqrt(2*np.pi))) * (a1*y + a2*y*y + a3*y*y*y)* np.exp(-x*x/2.0)\n",
    "    return r\n",
    "fig = plt.figure()\n",
    "X = np.linspace(-3, 3, 100)\n",
    "plt.plot(X, [phi(x) for x in X])"
   ]
  },
  {
   "cell_type": "code",
   "execution_count": 3,
   "metadata": {},
   "outputs": [],
   "source": [
    "import math\n",
    "def stock_price(S0, mu, std):\n",
    "    S1 = S0*np.exp(np.random.normal(loc=mu, scale=std, size=1))\n",
    "    return S1\n",
    "def stock_price_path(S0, mu, std):\n",
    "    S1 = S0\n",
    "    list_S = [S1]\n",
    "    for t in range(100):\n",
    "        S2 = stock_price(S1, mu, std)\n",
    "        list_S.append(S2)\n",
    "        S1 = S2\n",
    "    return list_S\n",
    "if False:\n",
    "    S = stock_price_path(1000, mu, std)\n",
    "    fig = plt.figure()\n",
    "    plt.plot(S)\n",
    "def bi(i, mu, K, Pm, std):\n",
    "    return (i*mu - np.log(K/Pm))/(std * np.sqrt(i))\n",
    "def exercise_policy(Pm, K, m, mu, std):\n",
    "    alpha = mu + std*std/2.0\n",
    "    exercise = False\n",
    "    if Pm > K:\n",
    "        exercise = True\n",
    "        for i in range(1, m + 1):\n",
    "            b = bi(i, mu, K, Pm, std)\n",
    "            if Pm > K + Pm*np.exp(i*alpha)*phi(std*np.sqrt(i) + b) - K*phi(b):\n",
    "                pass\n",
    "            else:\n",
    "                exercise = False\n",
    "                break\n",
    "    return exercise\n",
    "def simulate(Pm, K, m, mu, std):\n",
    "    while m >= 0:\n",
    "        do_exercise = exercise_policy(Pm, K, m, mu, std)\n",
    "        if do_exercise:\n",
    "            return Pm - K\n",
    "        else:\n",
    "            Pm = Pm*math.exp(np.random.normal(loc=mu, scale=std))\n",
    "            m = m - 1\n",
    "    return 0.0"
   ]
  },
  {
   "cell_type": "code",
   "execution_count": 4,
   "metadata": {},
   "outputs": [
    {
     "name": "stdout",
     "output_type": "stream",
     "text": [
      "6.021587537743542\n",
      "49.76482785092668\n"
     ]
    }
   ],
   "source": [
    "# https://brilliant.org/wiki/black-scholes-merton/\n",
    "def black_scholes(S0, K, T, t, r, std):\n",
    "    Tmt = (T-t)/365.0\n",
    "    den = std * np.sqrt(Tmt)\n",
    "    d1 = (np.log(S0/K) + (r + std*std/2.0)*(Tmt))/den\n",
    "    d2 = (np.log(S0/K) + (r - std*std/2.0)*(Tmt))/den\n",
    "    return S0*phi(d1) - K*math.exp(-r*(Tmt))*phi(d2)\n",
    "print(black_scholes(50, 45, 80, 0, 0.02, 0.3))\n",
    "print(black_scholes(100, 100, 20, 0, 0.0, 0.3*np.sqrt(365)))"
   ]
  },
  {
   "cell_type": "code",
   "execution_count": 5,
   "metadata": {},
   "outputs": [
    {
     "name": "stdout",
     "output_type": "stream",
     "text": [
      "45.09091554152147 84.70275148652513\n"
     ]
    }
   ],
   "source": [
    "value = []\n",
    "for i in range(10000):\n",
    "    v = simulate(100.0, 100, 20, -0.05, 0.3)\n",
    "    value.append(v)\n",
    "print(np.mean(value), np.std(value))"
   ]
  },
  {
   "cell_type": "code",
   "execution_count": null,
   "metadata": {},
   "outputs": [],
   "source": []
  }
 ],
 "metadata": {
  "kernelspec": {
   "display_name": "Python 3",
   "language": "python",
   "name": "python3"
  },
  "language_info": {
   "codemirror_mode": {
    "name": "ipython",
    "version": 3
   },
   "file_extension": ".py",
   "mimetype": "text/x-python",
   "name": "python",
   "nbconvert_exporter": "python",
   "pygments_lexer": "ipython3",
   "version": "3.7.3"
  }
 },
 "nbformat": 4,
 "nbformat_minor": 2
}
