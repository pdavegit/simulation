{
 "cells": [
  {
   "cell_type": "code",
   "execution_count": 94,
   "metadata": {},
   "outputs": [],
   "source": [
    "import numpy as np\n",
    "def insurance_risk(a0, n0, T):\n",
    "    t, a, n = 0, a0, n0\n",
    "    # departure\n",
    "    mu = 5.0\n",
    "    # claim\n",
    "    lamb = 10.0\n",
    "    # arrival\n",
    "    nu = 1.0\n",
    "    c = 11000\n",
    "    I = 1\n",
    "    while True:\n",
    "        rate = nu + n*mu + n*lamb\n",
    "        X = np.random.exponential(1.0/rate)\n",
    "        tE = t + X\n",
    "        if tE > T:\n",
    "            # Survival\n",
    "            I = 1\n",
    "            break\n",
    "        elif tE <= T:\n",
    "            a = a + n*c*(tE - t)\n",
    "            t = tE\n",
    "            U = np.random.uniform()\n",
    "            if U <= nu / rate:\n",
    "                # J = 1, arrival\n",
    "                n = n + 1\n",
    "            elif U <= (nu + n*mu) / rate:\n",
    "                # J = 2, departure\n",
    "                n = n - 1\n",
    "            else:\n",
    "                # J = 3, claim\n",
    "                Y = np.random.exponential(1000)\n",
    "                if Y > a:\n",
    "                    # Bankrupt\n",
    "                    I = 0\n",
    "                    break\n",
    "                else:\n",
    "                    a = a - Y\n",
    "    return I"
   ]
  },
  {
   "cell_type": "code",
   "execution_count": 96,
   "metadata": {},
   "outputs": [
    {
     "data": {
      "text/plain": [
       "0.904"
      ]
     },
     "execution_count": 96,
     "metadata": {},
     "output_type": "execute_result"
    }
   ],
   "source": [
    "np.mean([insurance_risk(25000, 0, 365) for i in range(1000)])"
   ]
  },
  {
   "cell_type": "code",
   "execution_count": null,
   "metadata": {},
   "outputs": [],
   "source": []
  }
 ],
 "metadata": {
  "kernelspec": {
   "display_name": "Python 3",
   "language": "python",
   "name": "python3"
  },
  "language_info": {
   "codemirror_mode": {
    "name": "ipython",
    "version": 3
   },
   "file_extension": ".py",
   "mimetype": "text/x-python",
   "name": "python",
   "nbconvert_exporter": "python",
   "pygments_lexer": "ipython3",
   "version": "3.7.3"
  }
 },
 "nbformat": 4,
 "nbformat_minor": 2
}
