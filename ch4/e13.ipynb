{
 "cells": [
  {
   "cell_type": "code",
   "execution_count": 1,
   "metadata": {},
   "outputs": [
    {
     "name": "stdout",
     "output_type": "stream",
     "text": [
      "3.004221\n",
      "0 0.049799\n",
      "1 0.14937\n",
      "2 0.222971\n",
      "3 0.224052\n",
      "4 0.167938\n",
      "5 0.101313\n",
      "6 0.050768\n"
     ]
    }
   ],
   "source": [
    "import random\n",
    "import math\n",
    "from collections import defaultdict\n",
    "\n",
    "def fn():\n",
    "    prod = 1\n",
    "    n = 0\n",
    "    while prod >= math.exp(-3):\n",
    "        r = random.random()\n",
    "        prod = prod * r\n",
    "        n += 1\n",
    "    return n - 1\n",
    "\n",
    "\n",
    "sum_n = 0\n",
    "iterations = 1000000\n",
    "freq = defaultdict(int)\n",
    "for i in range(iterations):\n",
    "    n = fn()\n",
    "    sum_n += n\n",
    "    freq[n] += 1\n",
    "\n",
    "print(sum_n/iterations)\n",
    "for i in range(7):\n",
    "    print(i, freq[i]/iterations)\n"
   ]
  },
  {
   "cell_type": "code",
   "execution_count": null,
   "metadata": {},
   "outputs": [],
   "source": []
  }
 ],
 "metadata": {
  "kernelspec": {
   "display_name": "Python 3",
   "language": "python",
   "name": "python3"
  },
  "language_info": {
   "codemirror_mode": {
    "name": "ipython",
    "version": 3
   },
   "file_extension": ".py",
   "mimetype": "text/x-python",
   "name": "python",
   "nbconvert_exporter": "python",
   "pygments_lexer": "ipython3",
   "version": "3.7.4"
  }
 },
 "nbformat": 4,
 "nbformat_minor": 2
}
