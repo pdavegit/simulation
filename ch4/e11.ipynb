{
 "cells": [
  {
   "cell_type": "code",
   "execution_count": 1,
   "metadata": {},
   "outputs": [
    {
     "name": "stdout",
     "output_type": "stream",
     "text": [
      "[[ 1.         -0.92136739]\n",
      " [-0.92136739  1.        ]]\n",
      "[[ 1.         -0.98354184]\n",
      " [-0.98354184  1.        ]]\n"
     ]
    }
   ],
   "source": [
    "import numpy as np\n",
    "\n",
    "# Using Numeric Python\n",
    "u = np.random.rand(10000000)\n",
    "print(np.corrcoef(u, np.sqrt(1-u*u)))\n",
    "# Answer -0.9214\n",
    "print(np.corrcoef(u*u, np.sqrt(1-u*u)))\n",
    "# -0.98\n"
   ]
  }
 ],
 "metadata": {
  "kernelspec": {
   "display_name": "Python 3",
   "language": "python",
   "name": "python3"
  },
  "language_info": {
   "codemirror_mode": {
    "name": "ipython",
    "version": 3
   },
   "file_extension": ".py",
   "mimetype": "text/x-python",
   "name": "python",
   "nbconvert_exporter": "python",
   "pygments_lexer": "ipython3",
   "version": "3.7.4"
  }
 },
 "nbformat": 4,
 "nbformat_minor": 2
}
