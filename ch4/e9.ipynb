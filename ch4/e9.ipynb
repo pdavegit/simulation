{
 "cells": [
  {
   "cell_type": "code",
   "execution_count": 1,
   "metadata": {},
   "outputs": [
    {
     "name": "stdout",
     "output_type": "stream",
     "text": [
      "0.5002735647032771\n"
     ]
    }
   ],
   "source": [
    "import math\n",
    "import random\n",
    "\n",
    "def indicator(x1, x2):\n",
    "    if x1 > x2:\n",
    "        return 0\n",
    "    else:\n",
    "        return 1\n",
    "\n",
    "def g(x1, x2):\n",
    "    return math.exp(-(x1 + x2))*indicator(x1, x2)\n",
    "\n",
    "def h(y1, y2):\n",
    "    return g(1.0/y1 - 1, 1.0/y2 - 1)/((y1*y1)*(y2*y2))\n",
    "\n",
    "def e9(iterations):\n",
    "    s = 0\n",
    "    for i in range(iterations):\n",
    "        u1 = random.random()\n",
    "        u2 = random.random()\n",
    "        s = s + h(u1, u2)\n",
    "    return s/iterations\n",
    "\n",
    "# Wolfram 0.5\n",
    "\n",
    "print(e9(100000))\n"
   ]
  },
  {
   "cell_type": "code",
   "execution_count": null,
   "metadata": {},
   "outputs": [],
   "source": []
  }
 ],
 "metadata": {
  "kernelspec": {
   "display_name": "Python 3",
   "language": "python",
   "name": "python3"
  },
  "language_info": {
   "codemirror_mode": {
    "name": "ipython",
    "version": 3
   },
   "file_extension": ".py",
   "mimetype": "text/x-python",
   "name": "python",
   "nbconvert_exporter": "python",
   "pygments_lexer": "ipython3",
   "version": "3.7.4"
  }
 },
 "nbformat": 4,
 "nbformat_minor": 2
}
