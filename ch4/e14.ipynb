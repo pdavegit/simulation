{
 "cells": [
  {
   "cell_type": "code",
   "execution_count": 1,
   "metadata": {},
   "outputs": [
    {
     "name": "stdout",
     "output_type": "stream",
     "text": [
      "1 0.23\n",
      "2 0.66\n",
      "3 0.13\n",
      "4 0.69\n",
      "5 0.72\n",
      "6 0.61\n",
      "7 0.43\n",
      "8 0.34\n",
      "9 0.17\n",
      "10 0.21\n",
      "11 0.48\n",
      "12 0.49\n",
      "13 0.87\n",
      "14 0.06\n"
     ]
    }
   ],
   "source": [
    "def x(n):\n",
    "    if n == 1:\n",
    "        return 23\n",
    "    if n == 2:\n",
    "        return 66\n",
    "    return (3*x(n-1) + 5*x(n-2)) % 100\n",
    "\n",
    "def u(n):\n",
    "    return x(n)/100\n",
    "\n",
    "for n in range(1, 15):\n",
    "    print(n, u(n))\n"
   ]
  },
  {
   "cell_type": "code",
   "execution_count": null,
   "metadata": {},
   "outputs": [],
   "source": []
  }
 ],
 "metadata": {
  "kernelspec": {
   "display_name": "Python 3",
   "language": "python",
   "name": "python3"
  },
  "language_info": {
   "codemirror_mode": {
    "name": "ipython",
    "version": 3
   },
   "file_extension": ".py",
   "mimetype": "text/x-python",
   "name": "python",
   "nbconvert_exporter": "python",
   "pygments_lexer": "ipython3",
   "version": "3.7.4"
  }
 },
 "nbformat": 4,
 "nbformat_minor": 2
}
