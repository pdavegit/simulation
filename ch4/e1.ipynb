{
 "cells": [
  {
   "cell_type": "code",
   "execution_count": 1,
   "metadata": {},
   "outputs": [
    {
     "name": "stdout",
     "output_type": "stream",
     "text": [
      "1 15\n",
      "2 45\n",
      "3 135\n",
      "4 105\n",
      "5 15\n",
      "6 45\n",
      "7 135\n",
      "8 105\n",
      "9 15\n",
      "10 45\n"
     ]
    }
   ],
   "source": [
    "def e1(n):\n",
    "   if n <= 0:\n",
    "      return 5\n",
    "   else:\n",
    "      return (3*e1(n-1)) % 150\n",
    "\n",
    "for n in range(1, 11):\n",
    "   print(n, e1(n))\n"
   ]
  }
 ],
 "metadata": {
  "kernelspec": {
   "display_name": "Python 3",
   "language": "python",
   "name": "python3"
  },
  "language_info": {
   "codemirror_mode": {
    "name": "ipython",
    "version": 3
   },
   "file_extension": ".py",
   "mimetype": "text/x-python",
   "name": "python",
   "nbconvert_exporter": "python",
   "pygments_lexer": "ipython3",
   "version": "3.7.4"
  }
 },
 "nbformat": 4,
 "nbformat_minor": 2
}
