{
 "cells": [
  {
   "cell_type": "code",
   "execution_count": 1,
   "metadata": {},
   "outputs": [
    {
     "name": "stdout",
     "output_type": "stream",
     "text": [
      "1.774154229334416\n"
     ]
    }
   ],
   "source": [
    "import math\n",
    "import random\n",
    "\n",
    "def g(x):\n",
    "    return math.exp(-x*x)\n",
    "\n",
    "def h(y):\n",
    "    return g(1.0/y-1.0)/(y*y)\n",
    "\n",
    "def e7(iterations):\n",
    "    s = 0\n",
    "    for i in range(iterations):\n",
    "        r = random.random()\n",
    "        s = s + h(r)\n",
    "    return s/iterations\n",
    "\n",
    "# Value from WolframAlpha is 1.77245\n",
    "# The function g is symmetric therefore Integral[-inf, inf] = 2 * Integral[0, inf]\n",
    "print(2.0*e7(1000000))\n"
   ]
  },
  {
   "cell_type": "code",
   "execution_count": null,
   "metadata": {},
   "outputs": [],
   "source": []
  }
 ],
 "metadata": {
  "kernelspec": {
   "display_name": "Python 3",
   "language": "python",
   "name": "python3"
  },
  "language_info": {
   "codemirror_mode": {
    "name": "ipython",
    "version": 3
   },
   "file_extension": ".py",
   "mimetype": "text/x-python",
   "name": "python",
   "nbconvert_exporter": "python",
   "pygments_lexer": "ipython3",
   "version": "3.7.4"
  }
 },
 "nbformat": 4,
 "nbformat_minor": 2
}
