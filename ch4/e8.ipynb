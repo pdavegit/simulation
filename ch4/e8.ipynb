{
 "cells": [
  {
   "cell_type": "code",
   "execution_count": 1,
   "metadata": {},
   "outputs": [
    {
     "name": "stdout",
     "output_type": "stream",
     "text": [
      "4.896735366780729\n"
     ]
    }
   ],
   "source": [
    "import math\n",
    "import random\n",
    "\n",
    "def g(x, y):\n",
    "    return math.exp((x+y)**2)\n",
    "\n",
    "def e8(iterations):\n",
    "    s = 0\n",
    "    for i in range(iterations):\n",
    "        r1 = random.random()\n",
    "        r2 = random.random()\n",
    "        s = s + g(r1, r2)\n",
    "    return s/iterations\n",
    "\n",
    "# Value from WolframAlpha is 4.89916\n",
    "\n",
    "print(e8(1000000))\n"
   ]
  },
  {
   "cell_type": "code",
   "execution_count": null,
   "metadata": {},
   "outputs": [],
   "source": []
  }
 ],
 "metadata": {
  "kernelspec": {
   "display_name": "Python 3",
   "language": "python",
   "name": "python3"
  },
  "language_info": {
   "codemirror_mode": {
    "name": "ipython",
    "version": 3
   },
   "file_extension": ".py",
   "mimetype": "text/x-python",
   "name": "python",
   "nbconvert_exporter": "python",
   "pygments_lexer": "ipython3",
   "version": "3.7.4"
  }
 },
 "nbformat": 4,
 "nbformat_minor": 2
}
