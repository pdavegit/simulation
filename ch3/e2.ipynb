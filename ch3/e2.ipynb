{
 "cells": [
  {
   "cell_type": "code",
   "execution_count": 1,
   "metadata": {},
   "outputs": [
    {
     "name": "stdout",
     "output_type": "stream",
     "text": [
      "1 22\n",
      "2 117\n",
      "3 192\n",
      "4 167\n",
      "5 42\n",
      "6 17\n",
      "7 92\n",
      "8 67\n",
      "9 142\n",
      "10 117\n"
     ]
    }
   ],
   "source": [
    "def e2(n):\n",
    "    if n <= 0:\n",
    "        return 3\n",
    "    else:\n",
    "        return (5*e2(n-1) + 7) % 200\n",
    "\n",
    "for n in range(1, 11):\n",
    "    print(n, e2(n))"
   ]
  },
  {
   "cell_type": "code",
   "execution_count": null,
   "metadata": {},
   "outputs": [],
   "source": []
  }
 ],
 "metadata": {
  "kernelspec": {
   "display_name": "Python 3",
   "language": "python",
   "name": "python3"
  },
  "language_info": {
   "codemirror_mode": {
    "name": "ipython",
    "version": 3
   },
   "file_extension": ".py",
   "mimetype": "text/x-python",
   "name": "python",
   "nbconvert_exporter": "python",
   "pygments_lexer": "ipython3",
   "version": "3.7.4"
  }
 },
 "nbformat": 4,
 "nbformat_minor": 2
}
