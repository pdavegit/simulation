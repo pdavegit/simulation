{
 "cells": [
  {
   "cell_type": "code",
   "execution_count": 1,
   "metadata": {},
   "outputs": [
    {
     "name": "stdout",
     "output_type": "stream",
     "text": [
      "6.311961668535169\n"
     ]
    }
   ],
   "source": [
    "import math\n",
    "import random\n",
    "\n",
    "def g(x):\n",
    "    return math.exp(math.exp(x))\n",
    "\n",
    "def h(a, b, y):\n",
    "    return (b-a)*g(a + (b-a)*y)\n",
    "\n",
    "def e3(iterations):\n",
    "    a = 0\n",
    "    b = 1\n",
    "    s = 0\n",
    "    for i in range(iterations):\n",
    "        r = random.random()\n",
    "        s = s + h(a, b, r)\n",
    "    return s/iterations\n",
    "\n",
    "# Value from WolframAlpha is 6.31656\n",
    "\n",
    "print(e3(1000000))\n"
   ]
  },
  {
   "cell_type": "code",
   "execution_count": null,
   "metadata": {},
   "outputs": [],
   "source": []
  }
 ],
 "metadata": {
  "kernelspec": {
   "display_name": "Python 3",
   "language": "python",
   "name": "python3"
  },
  "language_info": {
   "codemirror_mode": {
    "name": "ipython",
    "version": 3
   },
   "file_extension": ".py",
   "mimetype": "text/x-python",
   "name": "python",
   "nbconvert_exporter": "python",
   "pygments_lexer": "ipython3",
   "version": "3.7.4"
  }
 },
 "nbformat": 4,
 "nbformat_minor": 2
}
