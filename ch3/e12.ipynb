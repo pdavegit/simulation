{
 "cells": [
  {
   "cell_type": "code",
   "execution_count": 1,
   "metadata": {},
   "outputs": [
    {
     "name": "stdout",
     "output_type": "stream",
     "text": [
      "100 2.61\n",
      "1000 2.704\n",
      "10000 2.7198\n",
      "100000 2.71744\n"
     ]
    }
   ],
   "source": [
    "import random\n",
    "import math\n",
    "from collections import defaultdict\n",
    "\n",
    "def fn():\n",
    "    sum = 0\n",
    "    n = 0\n",
    "    while sum < 1:\n",
    "        r = random.random()\n",
    "        sum = sum + r\n",
    "        n += 1\n",
    "    return n\n",
    "\n",
    "def e(iterations):\n",
    "    sum_n = 0\n",
    "    for i in range(iterations):\n",
    "       n = fn()\n",
    "       sum_n += n\n",
    "    return (sum_n/iterations)\n",
    "\n",
    "print(100, e(100))\n",
    "print(1000, e(1000))\n",
    "print(10000, e(10000))\n",
    "print(100000, e(100000))\n"
   ]
  },
  {
   "cell_type": "code",
   "execution_count": null,
   "metadata": {},
   "outputs": [],
   "source": []
  }
 ],
 "metadata": {
  "kernelspec": {
   "display_name": "Python 3",
   "language": "python",
   "name": "python3"
  },
  "language_info": {
   "codemirror_mode": {
    "name": "ipython",
    "version": 3
   },
   "file_extension": ".py",
   "mimetype": "text/x-python",
   "name": "python",
   "nbconvert_exporter": "python",
   "pygments_lexer": "ipython3",
   "version": "3.7.4"
  }
 },
 "nbformat": 4,
 "nbformat_minor": 2
}
