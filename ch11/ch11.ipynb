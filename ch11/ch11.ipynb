{
 "cells": [
  {
   "cell_type": "code",
   "execution_count": 90,
   "metadata": {},
   "outputs": [],
   "source": [
    "import numpy as np\n",
    "%matplotlib inline\n",
    "import matplotlib.pyplot as plt"
   ]
  },
  {
   "cell_type": "code",
   "execution_count": 91,
   "metadata": {},
   "outputs": [],
   "source": [
    "\n",
    "# This is the empirical \n",
    "def Fe(x, a):\n",
    "    n = len(a)\n",
    "    r = 0\n",
    "    for i in range(n):\n",
    "        if a[i] > x:\n",
    "            return r/n\n",
    "        else:\n",
    "            r = r + 1 \n",
    "    return 1.0"
   ]
  },
  {
   "cell_type": "code",
   "execution_count": 92,
   "metadata": {},
   "outputs": [
    {
     "name": "stdout",
     "output_type": "stream",
     "text": [
      "0.3273273273273274\n"
     ]
    }
   ],
   "source": [
    "def D(a):\n",
    "    X = np.linspace(0, 100, num=1000)\n",
    "    T = 100.0\n",
    "    result = 0\n",
    "    for x in X:\n",
    "        if result < abs(Fe(x, a) - x/T):\n",
    "            result = abs(Fe(x, a) - x/T)\n",
    "    return result\n"
   ]
  },
  {
   "cell_type": "code",
   "execution_count": 93,
   "metadata": {},
   "outputs": [
    {
     "data": {
      "text/plain": [
       "0.03261"
      ]
     },
     "execution_count": 93,
     "metadata": {},
     "output_type": "execute_result"
    }
   ],
   "source": [
    "# See text before example 11b - equation 11.5\n",
    "def pvalue(iterations, dref, n):\n",
    "    gt = 0\n",
    "    for i in range(iterations):\n",
    "        U = np.random.uniform(0, 1, size=n)\n",
    "        Usorted = np.sort(U)\n",
    "        D = np.max([np.max(np.arange(1, n+1)/n - Usorted), np.max(Usorted - np.arange(0, n)/n)])\n",
    "        if D >= dref:\n",
    "            gt += 1\n",
    "    return gt/iterations\n",
    "pvalue(100000, 0.3277, 18)"
   ]
  },
  {
   "cell_type": "code",
   "execution_count": 95,
   "metadata": {},
   "outputs": [
    {
     "data": {
      "image/png": "[encoded data removed]",
      "text/plain": [
       "<Figure size 432x288 with 1 Axes>"
      ]
     },
     "metadata": {
      "needs_background": "light"
     },
     "output_type": "display_data"
    }
   ],
   "source": [
    "F = [Fe(x, obs) for x in X]\n",
    "plt.plot(X/100, F)\n",
    "plt.plot(X/100.0, X/100.0)\n",
    "plt.show()"
   ]
  },
  {
   "cell_type": "code",
   "execution_count": null,
   "metadata": {},
   "outputs": [],
   "source": [
    "import scipy.stats\n",
    "obs = [12, 20, 33, 44, 55, 56, 61, 63, 66, 70, 73, 75, 78, 80, 82, 85, 87, 90]\n",
    "print(D(obs))\n",
    "scipy.stats.kstest(obs, 'uniform', (0, 100))"
   ]
  },
  {
   "cell_type": "code",
   "execution_count": null,
   "metadata": {},
   "outputs": [],
   "source": []
  }
 ],
 "metadata": {
  "kernelspec": {
   "display_name": "Python 3",
   "language": "python",
   "name": "python3"
  },
  "language_info": {
   "codemirror_mode": {
    "name": "ipython",
    "version": 3
   },
   "file_extension": ".py",
   "mimetype": "text/x-python",
   "name": "python",
   "nbconvert_exporter": "python",
   "pygments_lexer": "ipython3",
   "version": "3.7.4"
  }
 },
 "nbformat": 4,
 "nbformat_minor": 2
}
